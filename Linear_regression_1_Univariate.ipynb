{
  "nbformat": 4,
  "nbformat_minor": 0,
  "metadata": {
    "colab": {
      "name": "Linear regression - 1 - Univariate",
      "provenance": [],
      "collapsed_sections": []
    },
    "kernelspec": {
      "name": "python3",
      "display_name": "Python 3"
    }
  },
  "cells": [
    {
      "cell_type": "markdown",
      "metadata": {
        "id": "7RZbCjBZBNKL"
      },
      "source": [
        "# Execute the code below"
      ]
    },
    {
      "cell_type": "code",
      "metadata": {
        "id": "ih5VsCSsAGWK"
      },
      "source": [
        "import matplotlib.pyplot as plt\n",
        "import pandas as pd\n",
        "import numpy as np\n",
        "import seaborn as sns\n",
        "link = \"https://raw.githubusercontent.com/murpi/wilddata/master/quests/weather2019.csv\"\n",
        "df_weather = pd.read_csv(link)\n",
        "df_weather = df_weather.iloc[:,[0,1,2, -4]]"
      ],
      "execution_count": null,
      "outputs": []
    },
    {
      "cell_type": "markdown",
      "metadata": {
        "id": "HDfmi_gNBRd3"
      },
      "source": [
        "# Univariate linear regression with Scikit-Learn"
      ]
    },
    {
      "cell_type": "code",
      "metadata": {
        "colab": {
          "base_uri": "https://localhost:8080/",
          "height": 417
        },
        "id": "W6rr9xhnIlne",
        "outputId": "b942eca5-c1f5-42fa-8a63-762a14ac52dc"
      },
      "source": [
        "df_weather"
      ],
      "execution_count": null,
      "outputs": [
        {
          "output_type": "execute_result",
          "data": {
            "text/html": [
              "<div>\n",
              "<style scoped>\n",
              "    .dataframe tbody tr th:only-of-type {\n",
              "        vertical-align: middle;\n",
              "    }\n",
              "\n",
              "    .dataframe tbody tr th {\n",
              "        vertical-align: top;\n",
              "    }\n",
              "\n",
              "    .dataframe thead th {\n",
              "        text-align: right;\n",
              "    }\n",
              "</style>\n",
              "<table border=\"1\" class=\"dataframe\">\n",
              "  <thead>\n",
              "    <tr style=\"text-align: right;\">\n",
              "      <th></th>\n",
              "      <th>DATE</th>\n",
              "      <th>MAX_TEMPERATURE_C</th>\n",
              "      <th>MIN_TEMPERATURE_C</th>\n",
              "      <th>SUNHOUR</th>\n",
              "    </tr>\n",
              "  </thead>\n",
              "  <tbody>\n",
              "    <tr>\n",
              "      <th>0</th>\n",
              "      <td>2019-01-01</td>\n",
              "      <td>9</td>\n",
              "      <td>4</td>\n",
              "      <td>5.1</td>\n",
              "    </tr>\n",
              "    <tr>\n",
              "      <th>1</th>\n",
              "      <td>2019-01-02</td>\n",
              "      <td>8</td>\n",
              "      <td>5</td>\n",
              "      <td>8.7</td>\n",
              "    </tr>\n",
              "    <tr>\n",
              "      <th>2</th>\n",
              "      <td>2019-01-03</td>\n",
              "      <td>6</td>\n",
              "      <td>0</td>\n",
              "      <td>8.7</td>\n",
              "    </tr>\n",
              "    <tr>\n",
              "      <th>3</th>\n",
              "      <td>2019-01-04</td>\n",
              "      <td>5</td>\n",
              "      <td>-1</td>\n",
              "      <td>5.1</td>\n",
              "    </tr>\n",
              "    <tr>\n",
              "      <th>4</th>\n",
              "      <td>2019-01-05</td>\n",
              "      <td>6</td>\n",
              "      <td>-1</td>\n",
              "      <td>8.7</td>\n",
              "    </tr>\n",
              "    <tr>\n",
              "      <th>...</th>\n",
              "      <td>...</td>\n",
              "      <td>...</td>\n",
              "      <td>...</td>\n",
              "      <td>...</td>\n",
              "    </tr>\n",
              "    <tr>\n",
              "      <th>360</th>\n",
              "      <td>2019-12-27</td>\n",
              "      <td>13</td>\n",
              "      <td>10</td>\n",
              "      <td>8.7</td>\n",
              "    </tr>\n",
              "    <tr>\n",
              "      <th>361</th>\n",
              "      <td>2019-12-28</td>\n",
              "      <td>11</td>\n",
              "      <td>5</td>\n",
              "      <td>6.9</td>\n",
              "    </tr>\n",
              "    <tr>\n",
              "      <th>362</th>\n",
              "      <td>2019-12-29</td>\n",
              "      <td>9</td>\n",
              "      <td>2</td>\n",
              "      <td>8.7</td>\n",
              "    </tr>\n",
              "    <tr>\n",
              "      <th>363</th>\n",
              "      <td>2019-12-30</td>\n",
              "      <td>12</td>\n",
              "      <td>4</td>\n",
              "      <td>8.7</td>\n",
              "    </tr>\n",
              "    <tr>\n",
              "      <th>364</th>\n",
              "      <td>2019-12-31</td>\n",
              "      <td>10</td>\n",
              "      <td>4</td>\n",
              "      <td>8.7</td>\n",
              "    </tr>\n",
              "  </tbody>\n",
              "</table>\n",
              "<p>365 rows × 4 columns</p>\n",
              "</div>"
            ],
            "text/plain": [
              "           DATE  MAX_TEMPERATURE_C  MIN_TEMPERATURE_C  SUNHOUR\n",
              "0    2019-01-01                  9                  4      5.1\n",
              "1    2019-01-02                  8                  5      8.7\n",
              "2    2019-01-03                  6                  0      8.7\n",
              "3    2019-01-04                  5                 -1      5.1\n",
              "4    2019-01-05                  6                 -1      8.7\n",
              "..          ...                ...                ...      ...\n",
              "360  2019-12-27                 13                 10      8.7\n",
              "361  2019-12-28                 11                  5      6.9\n",
              "362  2019-12-29                  9                  2      8.7\n",
              "363  2019-12-30                 12                  4      8.7\n",
              "364  2019-12-31                 10                  4      8.7\n",
              "\n",
              "[365 rows x 4 columns]"
            ]
          },
          "metadata": {},
          "execution_count": 2
        }
      ]
    },
    {
      "cell_type": "markdown",
      "metadata": {
        "id": "QhC4gFT2BVh1"
      },
      "source": [
        "Scikit-Learn is the greatest Machine Learning library for Python. Do you remember that you can do Linear regression with NumPy ? You can do the same with Scikit-Learn. And many other things!\n",
        "Let's start with univariate Linear regression, to learn the syntax."
      ]
    },
    {
      "cell_type": "markdown",
      "metadata": {
        "id": "sqL95QpaCTtI"
      },
      "source": [
        "## Print a regplot with seaborn to show a linear regression between Sunhours (on the X-axis) and MAX temperature (on the Y-axis)."
      ]
    },
    {
      "cell_type": "code",
      "metadata": {
        "id": "rGg7wuwaBUGl",
        "colab": {
          "base_uri": "https://localhost:8080/",
          "height": 296
        },
        "outputId": "2167e222-90a3-4e18-b508-30a0d2dd1a78"
      },
      "source": [
        "# Your code here :\n",
        "\n",
        "sns.regplot(x=\"SUNHOUR\",y=\"MAX_TEMPERATURE_C\",data = df_weather)"
      ],
      "execution_count": null,
      "outputs": [
        {
          "output_type": "execute_result",
          "data": {
            "text/plain": [
              "<matplotlib.axes._subplots.AxesSubplot at 0x7fc28fb11190>"
            ]
          },
          "metadata": {},
          "execution_count": 3
        },
        {
          "output_type": "display_data",
          "data": {
            "image/png": "[encoded data removed]",
            "text/plain": [
              "<Figure size 432x288 with 1 Axes>"
            ]
          },
          "metadata": {
            "needs_background": "light"
          }
        }
      ]
    },
    {
      "cell_type": "markdown",
      "metadata": {
        "id": "7Qnmc8HJEgSh"
      },
      "source": [
        "## Train the model\n",
        "You just have to read and execute the code below"
      ]
    },
    {
      "cell_type": "code",
      "metadata": {
        "id": "txQAv7N7C-rv",
        "colab": {
          "base_uri": "https://localhost:8080/"
        },
        "outputId": "b1113f53-8899-45ec-b144-5997df090003"
      },
      "source": [
        "# Scikit-Learn can find the coefficients of the linear regression\n",
        "from sklearn.linear_model import LinearRegression\n",
        "\n",
        "# First of all, you have to define 2 series :\n",
        "# X-axis : the correlated column, here it is Sunhours\n",
        "X = df_weather[['SUNHOUR']] \n",
        "\n",
        "# Y-axis : the column to predict, so MAX Temperature here\n",
        "y = df_weather['MAX_TEMPERATURE_C'] \n",
        "\n",
        "# Hey, why is \"X\" in uppercase and \"y\" in lowercase ? That's a good point, we'll see that in the next quest. Now, you just have to use this.\n",
        "\n",
        "# To train a machine learning model (here, it will find the equation of the linear regression), you just have launch the \".fit\" method.\n",
        "modelLR = LinearRegression().fit(X, y)\n",
        "print(modelLR.predict(X))"
      ],
      "execution_count": null,
      "outputs": [
        {
          "output_type": "stream",
          "name": "stdout",
          "text": [
            "[11.39682325 16.02001941 16.02001941 11.39682325 16.02001941  9.08522517\n",
            " 11.39682325  9.08522517  9.08522517 16.02001941 11.39682325 13.70842133\n",
            "  9.08522517  9.08522517 16.02001941  9.21364728 16.02001941 16.02001941\n",
            "  9.21364728 11.52524536 16.02001941  9.21364728 11.52524536 11.52524536\n",
            "  9.21364728  9.3420694  15.37790883 13.19473287 11.0115569  13.19473287\n",
            " 11.13997902 11.13997902 17.43266268 17.43266268 11.13997902 11.13997902\n",
            " 11.26840113 13.32315498 11.26840113 13.32315498 15.50633095 15.50633095\n",
            " 17.81792903 17.81792903 17.94635114 17.94635114 15.63475306 17.94635114\n",
            " 13.57999921 11.52524536 17.68950691 18.20319537 18.20319537 18.71688384\n",
            " 15.76317518 18.84530595 18.84530595 18.97372807 11.91051171 17.81792903\n",
            " 17.81792903 12.03893383 15.89159729 17.81792903 12.03893383 16.02001941\n",
            " 17.94635114 12.42420017 14.22210979 17.94635114 14.22210979 19.74426076\n",
            " 12.42420017 12.55262229 12.55262229 19.74426076 16.14844152 14.35053191\n",
            " 14.35053191 19.74426076 19.74426076 19.74426076 17.94635114 16.27686364\n",
            " 19.74426076 19.74426076 18.07477326 16.40528576 18.07477326 18.07477326\n",
            " 16.40528576 13.19473287 14.86422037 14.86422037 13.19473287 13.19473287\n",
            " 14.86422037 16.53370787 18.07477326 14.99264248 19.74426076 19.74426076\n",
            " 19.74426076 14.99264248 16.53370787 19.74426076 18.20319537 19.74426076\n",
            " 19.74426076 16.7905521  16.7905521  16.7905521  15.37790883 13.83684344\n",
            " 16.7905521  22.05585884 17.94635114 16.53370787 17.94635114 23.46850211\n",
            " 20.77163768 20.77163768 19.35899441 19.35899441 22.05585884 19.48741653\n",
            " 18.07477326 19.48741653 16.7905521  16.7905521  19.48741653 23.46850211\n",
            " 23.46850211 23.46850211 23.46850211 18.20319537 19.61583864 17.04739633\n",
            " 18.33161749 17.04739633 20.9000598  19.61583864 22.18428096 22.18428096\n",
            " 19.61583864 17.17581845 20.9000598  19.61583864 18.4600396  19.74426076\n",
            " 23.46850211 23.46850211 22.18428096 21.02848192 17.30424056 17.30424056\n",
            " 19.74426076 17.30424056 22.44112519 22.5695473  23.72534634 22.5695473\n",
            " 21.41374826 23.72534634 25.26641173 22.5695473  23.72534634 25.39483384\n",
            " 25.39483384 21.41374826 25.39483384 23.72534634 25.39483384 25.39483384\n",
            " 21.41374826 25.39483384 25.39483384 25.26641173 25.26641173 25.26641173\n",
            " 24.88114538 25.26641173 25.26641173 25.26641173 25.26641173 25.26641173\n",
            " 23.59692423 25.26641173 25.13798961 25.13798961 25.13798961 25.13798961\n",
            " 22.44112519 25.13798961 23.46850211 23.46850211 22.18428096 23.46850211\n",
            " 18.33161749 22.18428096 19.61583864 23.46850211 23.46850211 23.46850211\n",
            " 23.46850211 22.18428096 16.91897422 18.20319537 23.46850211 22.18428096\n",
            " 18.20319537 22.18428096 23.46850211 23.46850211 23.46850211 23.46850211\n",
            " 19.48741653 16.7905521  20.77163768 23.46850211 19.35899441 19.35899441\n",
            " 20.77163768 16.66212999 22.05585884 13.96526556 16.7905521  19.74426076\n",
            " 13.96526556 16.7905521  18.33161749 19.74426076 16.7905521  19.74426076\n",
            " 19.74426076 18.20319537 19.74426076 18.20319537 18.20319537 16.53370787\n",
            " 16.53370787 18.20319537 19.74426076 19.74426076 19.74426076 19.74426076\n",
            " 14.86422037 16.53370787 19.74426076 18.07477326 19.74426076 14.86422037\n",
            " 19.74426076 19.74426076 18.07477326 19.74426076 19.74426076 19.74426076\n",
            " 19.74426076 19.74426076 19.74426076 19.74426076 19.74426076 18.07477326\n",
            " 14.60737614 12.80946652 14.60737614 12.55262229 12.55262229 16.14844152\n",
            " 12.29577806 14.09368768 12.16735594 12.16735594 12.16735594 19.48741653\n",
            " 13.96526556 12.03893383 19.35899441 12.03893383 13.96526556 13.96526556\n",
            " 15.89159729 17.81792903 19.10215018 15.89159729 13.83684344 15.76317518\n",
            " 11.91051171 13.83684344 15.76317518 11.7820896  11.7820896  17.68950691\n",
            " 18.58846172 11.65366748 11.65366748 13.70842133 18.4600396   9.72733575\n",
            "  9.72733575  9.72733575 11.7820896   9.72733575  9.72733575  9.59891363\n",
            "  9.59891363 11.7820896   9.59891363 13.83684344  9.59891363 13.83684344\n",
            "  9.3420694  11.52524536 11.52524536 11.52524536 11.52524536 13.83684344\n",
            " 13.83684344  9.3420694  16.02001941 16.02001941 13.70842133 11.52524536\n",
            "  9.21364728  9.21364728 13.70842133 11.52524536  9.21364728  9.21364728\n",
            "  9.21364728  9.08522517 13.70842133  9.08522517  9.08522517 16.02001941\n",
            " 16.02001941 13.70842133 16.02001941  9.08522517  9.08522517  9.08522517\n",
            " 11.39682325  9.08522517 16.02001941  9.08522517  9.08522517  9.08522517\n",
            " 13.70842133  9.08522517  9.08522517 11.39682325  9.08522517 11.39682325\n",
            " 13.70842133 11.39682325 13.70842133 16.02001941 16.02001941 11.39682325\n",
            " 16.02001941 13.70842133 16.02001941 16.02001941 16.02001941]\n"
          ]
        }
      ]
    },
    {
      "cell_type": "markdown",
      "metadata": {
        "id": "yGHuorx4EiWD"
      },
      "source": [
        "## Explore the model"
      ]
    },
    {
      "cell_type": "code",
      "metadata": {
        "id": "dIWLEntIDjp4",
        "colab": {
          "base_uri": "https://localhost:8080/"
        },
        "outputId": "28e9494b-3290-491d-9d64-51ed02a2e255"
      },
      "source": [
        "# Your model is trained, it has now some attributes.\n",
        "# Coefficient, it's the \"a\" in your equation \"aX + b\"\n",
        "print(\"coefficient :\",modelLR.coef_)\n",
        "\n",
        "# Interception, it's the \"b\" in your equation \"aX + b\"\n",
        "print(\"intercept :\", modelLR.intercept_)\n"
      ],
      "execution_count": null,
      "outputs": [
        {
          "output_type": "stream",
          "name": "stdout",
          "text": [
            "coefficient : [1.28422116]\n",
            "intercept : 4.8472953557195435\n"
          ]
        }
      ]
    },
    {
      "cell_type": "markdown",
      "metadata": {
        "id": "EY3uNopEGtOQ"
      },
      "source": [
        "## Prediction for 1 value"
      ]
    },
    {
      "cell_type": "code",
      "metadata": {
        "id": "gzNPxyTNFKAb",
        "colab": {
          "base_uri": "https://localhost:8080/"
        },
        "outputId": "bd6649fa-ff00-4b59-82c8-0bd6409e6278"
      },
      "source": [
        "# You can \"predict\" the Max Temperature from the Sunhours\n",
        "# For example, let's try if Sunhours is 10 :\n",
        "\n",
        "# Hand calculation :\n",
        "print(\"By hand :\", modelLR.coef_ * 10 + modelLR.intercept_ )\n",
        "\n",
        "# With a Scikit-Learn function :\n",
        "print(\"Scikit-Learn :  \", modelLR.predict([[10]])  )"
      ],
      "execution_count": null,
      "outputs": [
        {
          "output_type": "stream",
          "name": "stdout",
          "text": [
            "By hand : [17.68950691]\n",
            "Scikit-Learn :   [17.68950691]\n"
          ]
        }
      ]
    },
    {
      "cell_type": "markdown",
      "metadata": {
        "id": "bXvhV9DPH9iH"
      },
      "source": [
        "## Predictions for multiple values (a Serie)\n",
        "Let's predict MAX temperature for the Sunhour column of your DataFrame.\n",
        "\n",
        "Note : You'll have to precise your column with double \"[\", like that  : df[['your_column]] \n",
        "\n",
        "*Why ? We'll see that in the next quest.*"
      ]
    },
    {
      "cell_type": "code",
      "metadata": {
        "id": "4J79U7rcHwpz",
        "colab": {
          "base_uri": "https://localhost:8080/",
          "height": 684
        },
        "outputId": "2bf56c7a-6457-4948-d33a-7b5514f99116"
      },
      "source": [
        "# Find a way to store the result of the prediction in a new column 'predict\" of the dataframe\n",
        "predict = modelLR.predict(df_weather[['SUNHOUR']])\n",
        "predict\n",
        "\n",
        "df_weather[\"predict\"] = predict\n",
        "df_weather"
      ],
      "execution_count": null,
      "outputs": [
        {
          "output_type": "execute_result",
          "data": {
            "text/html": [
              "<div>\n",
              "<style scoped>\n",
              "    .dataframe tbody tr th:only-of-type {\n",
              "        vertical-align: middle;\n",
              "    }\n",
              "\n",
              "    .dataframe tbody tr th {\n",
              "        vertical-align: top;\n",
              "    }\n",
              "\n",
              "    .dataframe thead th {\n",
              "        text-align: right;\n",
              "    }\n",
              "</style>\n",
              "<table border=\"1\" class=\"dataframe\">\n",
              "  <thead>\n",
              "    <tr style=\"text-align: right;\">\n",
              "      <th></th>\n",
              "      <th>DATE</th>\n",
              "      <th>MAX_TEMPERATURE_C</th>\n",
              "      <th>MIN_TEMPERATURE_C</th>\n",
              "      <th>SUNHOUR</th>\n",
              "      <th>predict</th>\n",
              "      <th>predict2</th>\n",
              "    </tr>\n",
              "  </thead>\n",
              "  <tbody>\n",
              "    <tr>\n",
              "      <th>0</th>\n",
              "      <td>2019-01-01</td>\n",
              "      <td>9</td>\n",
              "      <td>4</td>\n",
              "      <td>5.1</td>\n",
              "      <td>11.396823</td>\n",
              "      <td>9.984180</td>\n",
              "    </tr>\n",
              "    <tr>\n",
              "      <th>1</th>\n",
              "      <td>2019-01-02</td>\n",
              "      <td>8</td>\n",
              "      <td>5</td>\n",
              "      <td>8.7</td>\n",
              "      <td>16.020019</td>\n",
              "      <td>11.268401</td>\n",
              "    </tr>\n",
              "    <tr>\n",
              "      <th>2</th>\n",
              "      <td>2019-01-03</td>\n",
              "      <td>6</td>\n",
              "      <td>0</td>\n",
              "      <td>8.7</td>\n",
              "      <td>16.020019</td>\n",
              "      <td>4.847295</td>\n",
              "    </tr>\n",
              "    <tr>\n",
              "      <th>3</th>\n",
              "      <td>2019-01-04</td>\n",
              "      <td>5</td>\n",
              "      <td>-1</td>\n",
              "      <td>5.1</td>\n",
              "      <td>11.396823</td>\n",
              "      <td>3.563074</td>\n",
              "    </tr>\n",
              "    <tr>\n",
              "      <th>4</th>\n",
              "      <td>2019-01-05</td>\n",
              "      <td>6</td>\n",
              "      <td>-1</td>\n",
              "      <td>8.7</td>\n",
              "      <td>16.020019</td>\n",
              "      <td>3.563074</td>\n",
              "    </tr>\n",
              "    <tr>\n",
              "      <th>...</th>\n",
              "      <td>...</td>\n",
              "      <td>...</td>\n",
              "      <td>...</td>\n",
              "      <td>...</td>\n",
              "      <td>...</td>\n",
              "      <td>...</td>\n",
              "    </tr>\n",
              "    <tr>\n",
              "      <th>360</th>\n",
              "      <td>2019-12-27</td>\n",
              "      <td>13</td>\n",
              "      <td>10</td>\n",
              "      <td>8.7</td>\n",
              "      <td>16.020019</td>\n",
              "      <td>17.689507</td>\n",
              "    </tr>\n",
              "    <tr>\n",
              "      <th>361</th>\n",
              "      <td>2019-12-28</td>\n",
              "      <td>11</td>\n",
              "      <td>5</td>\n",
              "      <td>6.9</td>\n",
              "      <td>13.708421</td>\n",
              "      <td>11.268401</td>\n",
              "    </tr>\n",
              "    <tr>\n",
              "      <th>362</th>\n",
              "      <td>2019-12-29</td>\n",
              "      <td>9</td>\n",
              "      <td>2</td>\n",
              "      <td>8.7</td>\n",
              "      <td>16.020019</td>\n",
              "      <td>7.415738</td>\n",
              "    </tr>\n",
              "    <tr>\n",
              "      <th>363</th>\n",
              "      <td>2019-12-30</td>\n",
              "      <td>12</td>\n",
              "      <td>4</td>\n",
              "      <td>8.7</td>\n",
              "      <td>16.020019</td>\n",
              "      <td>9.984180</td>\n",
              "    </tr>\n",
              "    <tr>\n",
              "      <th>364</th>\n",
              "      <td>2019-12-31</td>\n",
              "      <td>10</td>\n",
              "      <td>4</td>\n",
              "      <td>8.7</td>\n",
              "      <td>16.020019</td>\n",
              "      <td>9.984180</td>\n",
              "    </tr>\n",
              "  </tbody>\n",
              "</table>\n",
              "<p>365 rows × 6 columns</p>\n",
              "</div>"
            ],
            "text/plain": [
              "          DATE  MAX_TEMPERATURE_C  ...    predict   predict2\n",
              "0   2019-01-01                  9  ...  11.396823   9.984180\n",
              "1   2019-01-02                  8  ...  16.020019  11.268401\n",
              "2   2019-01-03                  6  ...  16.020019   4.847295\n",
              "3   2019-01-04                  5  ...  11.396823   3.563074\n",
              "4   2019-01-05                  6  ...  16.020019   3.563074\n",
              "..         ...                ...  ...        ...        ...\n",
              "360 2019-12-27                 13  ...  16.020019  17.689507\n",
              "361 2019-12-28                 11  ...  13.708421  11.268401\n",
              "362 2019-12-29                  9  ...  16.020019   7.415738\n",
              "363 2019-12-30                 12  ...  16.020019   9.984180\n",
              "364 2019-12-31                 10  ...  16.020019   9.984180\n",
              "\n",
              "[365 rows x 6 columns]"
            ]
          },
          "metadata": {},
          "execution_count": 51
        }
      ]
    },
    {
      "cell_type": "markdown",
      "metadata": {
        "id": "0Ursrji1KgLk"
      },
      "source": [
        "## Visualisations\n",
        "You can predict the Max temperature from any value of Sunhour. Your prediction is now stored in a column, you can now visualize it. \n",
        "\n",
        "It's to you now :\n",
        "Create on the same scatterplot chart :\n",
        "- X-axis : Sunhours\n",
        "- Y-axis : MAX temperatures in blue dots and 'predict' in red dots."
      ]
    },
    {
      "cell_type": "code",
      "metadata": {
        "id": "ZgbZRRwmI93Q",
        "colab": {
          "base_uri": "https://localhost:8080/",
          "height": 297
        },
        "outputId": "b833a133-8761-405f-e7e4-15ad85149dbb"
      },
      "source": [
        "# Your code here :\n",
        "sns.scatterplot(x=\"SUNHOUR\",y=\"MAX_TEMPERATURE_C\",data = df_weather,color = \"blue\")\n",
        "sns.scatterplot(x=\"SUNHOUR\",y=\"predict\",data = df_weather,color = \"red\")\n"
      ],
      "execution_count": null,
      "outputs": [
        {
          "output_type": "execute_result",
          "data": {
            "text/plain": [
              "<matplotlib.axes._subplots.AxesSubplot at 0x7f3087f4a810>"
            ]
          },
          "metadata": {},
          "execution_count": 26
        },
        {
          "output_type": "display_data",
          "data": {
            "image/png": "[encoded data removed]",
            "text/plain": [
              "<Figure size 432x288 with 1 Axes>"
            ]
          },
          "metadata": {
            "needs_background": "light"
          }
        }
      ]
    },
    {
      "cell_type": "markdown",
      "metadata": {
        "id": "T1rmKjRPLVVq"
      },
      "source": [
        "Your prediction is stored in a DataFrame. **So, you can visualize your prediction without the \"source\" column.** Let's try it.\n",
        "Create on the same scatterplot chart :\n",
        "- X-axis : DATE\n",
        "- Y-axis : MAX temperatures in blue dots and 'predict' in red dots."
      ]
    },
    {
      "cell_type": "code",
      "metadata": {
        "id": "87LCCYitLYZ7",
        "colab": {
          "base_uri": "https://localhost:8080/",
          "height": 297
        },
        "outputId": "f71e2a24-97fb-4e07-8ced-5102511e398e"
      },
      "source": [
        "# Your code here :\n",
        "#from datetime import datetime\n",
        "#df_weather[\"DATE\"] = df_weather['DATE'].apply(lambda x: datetime.strptime(x, '%Y-%m-%d'))\n",
        "sns.scatterplot(x=\"DATE\",y=\"MAX_TEMPERATURE_C\",data = df_weather,color = \"blue\")\n",
        "sns.scatterplot(x=\"DATE\",y=\"predict\",data = df_weather,color = \"red\")\n"
      ],
      "execution_count": null,
      "outputs": [
        {
          "output_type": "execute_result",
          "data": {
            "text/plain": [
              "<matplotlib.axes._subplots.AxesSubplot at 0x7f30878ea1d0>"
            ]
          },
          "metadata": {},
          "execution_count": 36
        },
        {
          "output_type": "display_data",
          "data": {
            "image/png": "[encoded data removed]",
            "text/plain": [
              "<Figure size 432x288 with 1 Axes>"
            ]
          },
          "metadata": {
            "needs_background": "light"
          }
        }
      ]
    },
    {
      "cell_type": "markdown",
      "metadata": {
        "id": "uDopKt23LbYF"
      },
      "source": [
        "Hey, but it doesn't seem linear ! And yet it is..."
      ]
    },
    {
      "cell_type": "markdown",
      "metadata": {
        "id": "UcNA1qwJLlyU"
      },
      "source": [
        "# Predictions on a more correlated column\n",
        "Do the same steps to obtain a new colum \"predict2\". Your goal is to predict \"MAX temperature\" from the \"MIN temperature\" column."
      ]
    },
    {
      "cell_type": "code",
      "metadata": {
        "id": "NlrSXUswL4Lq",
        "colab": {
          "base_uri": "https://localhost:8080/",
          "height": 417
        },
        "outputId": "2acb16ff-5107-4ec6-9704-043c8eb1f952"
      },
      "source": [
        "# Your code here :\n",
        "predict2 = modelLR.predict(df_weather[['MIN_TEMPERATURE_C']])\n",
        "predict2\n",
        "\n",
        "df_weather[\"predict2\"] = predict2\n",
        "df_weather\n",
        "\n"
      ],
      "execution_count": null,
      "outputs": [
        {
          "output_type": "execute_result",
          "data": {
            "text/html": [
              "<div>\n",
              "<style scoped>\n",
              "    .dataframe tbody tr th:only-of-type {\n",
              "        vertical-align: middle;\n",
              "    }\n",
              "\n",
              "    .dataframe tbody tr th {\n",
              "        vertical-align: top;\n",
              "    }\n",
              "\n",
              "    .dataframe thead th {\n",
              "        text-align: right;\n",
              "    }\n",
              "</style>\n",
              "<table border=\"1\" class=\"dataframe\">\n",
              "  <thead>\n",
              "    <tr style=\"text-align: right;\">\n",
              "      <th></th>\n",
              "      <th>DATE</th>\n",
              "      <th>MAX_TEMPERATURE_C</th>\n",
              "      <th>MIN_TEMPERATURE_C</th>\n",
              "      <th>SUNHOUR</th>\n",
              "      <th>predict2</th>\n",
              "    </tr>\n",
              "  </thead>\n",
              "  <tbody>\n",
              "    <tr>\n",
              "      <th>0</th>\n",
              "      <td>2019-01-01</td>\n",
              "      <td>9</td>\n",
              "      <td>4</td>\n",
              "      <td>5.1</td>\n",
              "      <td>9.984180</td>\n",
              "    </tr>\n",
              "    <tr>\n",
              "      <th>1</th>\n",
              "      <td>2019-01-02</td>\n",
              "      <td>8</td>\n",
              "      <td>5</td>\n",
              "      <td>8.7</td>\n",
              "      <td>11.268401</td>\n",
              "    </tr>\n",
              "    <tr>\n",
              "      <th>2</th>\n",
              "      <td>2019-01-03</td>\n",
              "      <td>6</td>\n",
              "      <td>0</td>\n",
              "      <td>8.7</td>\n",
              "      <td>4.847295</td>\n",
              "    </tr>\n",
              "    <tr>\n",
              "      <th>3</th>\n",
              "      <td>2019-01-04</td>\n",
              "      <td>5</td>\n",
              "      <td>-1</td>\n",
              "      <td>5.1</td>\n",
              "      <td>3.563074</td>\n",
              "    </tr>\n",
              "    <tr>\n",
              "      <th>4</th>\n",
              "      <td>2019-01-05</td>\n",
              "      <td>6</td>\n",
              "      <td>-1</td>\n",
              "      <td>8.7</td>\n",
              "      <td>3.563074</td>\n",
              "    </tr>\n",
              "    <tr>\n",
              "      <th>...</th>\n",
              "      <td>...</td>\n",
              "      <td>...</td>\n",
              "      <td>...</td>\n",
              "      <td>...</td>\n",
              "      <td>...</td>\n",
              "    </tr>\n",
              "    <tr>\n",
              "      <th>360</th>\n",
              "      <td>2019-12-27</td>\n",
              "      <td>13</td>\n",
              "      <td>10</td>\n",
              "      <td>8.7</td>\n",
              "      <td>17.689507</td>\n",
              "    </tr>\n",
              "    <tr>\n",
              "      <th>361</th>\n",
              "      <td>2019-12-28</td>\n",
              "      <td>11</td>\n",
              "      <td>5</td>\n",
              "      <td>6.9</td>\n",
              "      <td>11.268401</td>\n",
              "    </tr>\n",
              "    <tr>\n",
              "      <th>362</th>\n",
              "      <td>2019-12-29</td>\n",
              "      <td>9</td>\n",
              "      <td>2</td>\n",
              "      <td>8.7</td>\n",
              "      <td>7.415738</td>\n",
              "    </tr>\n",
              "    <tr>\n",
              "      <th>363</th>\n",
              "      <td>2019-12-30</td>\n",
              "      <td>12</td>\n",
              "      <td>4</td>\n",
              "      <td>8.7</td>\n",
              "      <td>9.984180</td>\n",
              "    </tr>\n",
              "    <tr>\n",
              "      <th>364</th>\n",
              "      <td>2019-12-31</td>\n",
              "      <td>10</td>\n",
              "      <td>4</td>\n",
              "      <td>8.7</td>\n",
              "      <td>9.984180</td>\n",
              "    </tr>\n",
              "  </tbody>\n",
              "</table>\n",
              "<p>365 rows × 5 columns</p>\n",
              "</div>"
            ],
            "text/plain": [
              "           DATE  MAX_TEMPERATURE_C  MIN_TEMPERATURE_C  SUNHOUR   predict2\n",
              "0    2019-01-01                  9                  4      5.1   9.984180\n",
              "1    2019-01-02                  8                  5      8.7  11.268401\n",
              "2    2019-01-03                  6                  0      8.7   4.847295\n",
              "3    2019-01-04                  5                 -1      5.1   3.563074\n",
              "4    2019-01-05                  6                 -1      8.7   3.563074\n",
              "..          ...                ...                ...      ...        ...\n",
              "360  2019-12-27                 13                 10      8.7  17.689507\n",
              "361  2019-12-28                 11                  5      6.9  11.268401\n",
              "362  2019-12-29                  9                  2      8.7   7.415738\n",
              "363  2019-12-30                 12                  4      8.7   9.984180\n",
              "364  2019-12-31                 10                  4      8.7   9.984180\n",
              "\n",
              "[365 rows x 5 columns]"
            ]
          },
          "metadata": {},
          "execution_count": 54
        }
      ]
    },
    {
      "cell_type": "markdown",
      "metadata": {
        "id": "faAHUMseL3vY"
      },
      "source": [
        "## Scatterplot 1\n",
        "- X-axis : MIN temperature\n",
        "- Y-axis : MAX temperatures in blue dots and 'predict2' in red dots."
      ]
    },
    {
      "cell_type": "code",
      "metadata": {
        "id": "KfQkWH_YMK9D",
        "colab": {
          "base_uri": "https://localhost:8080/",
          "height": 297
        },
        "outputId": "350c8350-ff25-469c-a8c4-1d36c209f0ce"
      },
      "source": [
        "#Your code here :\n",
        "sns.scatterplot(x=\"MIN_TEMPERATURE_C\",y=\"MAX_TEMPERATURE_C\",data = df_weather,color = \"blue\")\n",
        "sns.scatterplot(x=\"MIN_TEMPERATURE_C\",y=\"predict2\",data = df_weather,color = \"red\")"
      ],
      "execution_count": null,
      "outputs": [
        {
          "output_type": "execute_result",
          "data": {
            "text/plain": [
              "<matplotlib.axes._subplots.AxesSubplot at 0x7f30876c27d0>"
            ]
          },
          "metadata": {},
          "execution_count": 55
        },
        {
          "output_type": "display_data",
          "data": {
            "image/png": "[encoded data removed]",
            "text/plain": [
              "<Figure size 432x288 with 1 Axes>"
            ]
          },
          "metadata": {
            "needs_background": "light"
          }
        }
      ]
    },
    {
      "cell_type": "markdown",
      "metadata": {
        "id": "A8P6S3RTMMo-"
      },
      "source": [
        "## Scatterplot 2\n",
        "- X-axis : DATE\n",
        "- Y-axis : MAX temperatures in blue dots and 'predict2' in red dots."
      ]
    },
    {
      "cell_type": "code",
      "metadata": {
        "id": "U4HAg2nvMRZE",
        "colab": {
          "base_uri": "https://localhost:8080/",
          "height": 296
        },
        "outputId": "fae688b8-83fe-4fae-9b3c-102caa4816f1"
      },
      "source": [
        "# Your code here :\n",
        "sns.scatterplot(x=\"DATE\",y=\"MAX_TEMPERATURE_C\",data = df_weather,color = \"blue\")\n",
        "sns.scatterplot(x=\"DATE\",y=\"predict2\",data = df_weather,color = \"red\")"
      ],
      "execution_count": null,
      "outputs": [
        {
          "output_type": "execute_result",
          "data": {
            "text/plain": [
              "<matplotlib.axes._subplots.AxesSubplot at 0x7f308763d7d0>"
            ]
          },
          "metadata": {},
          "execution_count": 56
        },
        {
          "output_type": "display_data",
          "data": {
            "image/png": "[encoded data removed]",
            "text/plain": [
              "<Figure size 432x288 with 1 Axes>"
            ]
          },
          "metadata": {
            "needs_background": "light"
          }
        }
      ]
    }
  ]
}